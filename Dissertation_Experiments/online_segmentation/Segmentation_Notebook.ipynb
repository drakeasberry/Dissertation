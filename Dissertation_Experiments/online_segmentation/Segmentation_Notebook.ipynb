{
 "cells": [
  {
   "cell_type": "markdown",
   "metadata": {},
   "source": [
    "# This is the running tab on experimental design and processing files for my dissertation work."
   ]
  },
  {
   "cell_type": "markdown",
   "metadata": {},
   "source": [
    "This block of text goes to Segmentation_Experimental_Item_Setup.xlsx, where all experimental items were selected, stored and checked for balancing.\n",
    "The output creates four .csv files in /data/original_data/exp_files/\n",
    "1. expLists_all.csv\n",
    "2. pracLists_all.csv\n",
    "3. sylexpLists_all.csv\n",
    "4. sylpracLists_all.csv\n"
   ]
  },
  {
   "cell_type": "code",
   "execution_count": 1,
   "metadata": {},
   "outputs": [
    {
     "name": "stdout",
     "output_type": "stream",
     "text": [
      "/Users/drakeasberry/github/Dissertation/Dissertation_Experiments/online_segmentation\r\n"
     ]
    }
   ],
   "source": [
    "!pwd\n"
   ]
  },
  {
   "cell_type": "code",
   "execution_count": 6,
   "metadata": {},
   "outputs": [
    {
     "ename": "SyntaxError",
     "evalue": "invalid syntax (<ipython-input-6-54d181994f51>, line 2)",
     "output_type": "error",
     "traceback": [
      "\u001b[0;36m  File \u001b[0;32m\"<ipython-input-6-54d181994f51>\"\u001b[0;36m, line \u001b[0;32m2\u001b[0m\n\u001b[0;31m    from ../../Scripts_Dissertation import segFunctions\u001b[0m\n\u001b[0m           ^\u001b[0m\n\u001b[0;31mSyntaxError\u001b[0m\u001b[0;31m:\u001b[0m invalid syntax\n"
     ]
    }
   ],
   "source": [
    "import pandas as pd\n",
    "from Scripts_Dissertation import segFunctions\n",
    "\n",
    "# runs the csv_from_excel function:\n",
    "# creates csv for segmentation experiment lists\n",
    "segFunctions.csv_from_excel('Segmentation_Experimental_Item_Setup.xlsx','All_SegExperiment_Lists','./data/original_data/exp_files/expLists_all.csv')\n",
    "\n",
    "# creates csv for segmentation practice lists\n",
    "segFunctions.csv_from_excel('Segmentation_Experimental_Item_Setup.xlsx','All_SegPractice_Lists','./data/original_data/exp_files/pracLists_all.csv')\n",
    "\n",
    "# creates csv for syllabification experiment lists\n",
    "segFunctions.csv_from_excel('Segmentation_Experimental_Item_Setup.xlsx','Syllabification_Lists','./data/original_data/exp_files/sylexpLists_all.csv')\n",
    "\n",
    "# creates csv for syllabification practice lists\n",
    "segFunctions.csv_from_excel('Segmentation_Experimental_Item_Setup.xlsx','Syllabification_Practice','./data/original_data/exp_files/sylpracLists_all.csv')\n",
    "\n",
    "# creates csv for LexTALE Spanish lists\n",
    "segFunctions.csv_from_excel('Segmentation_Experimental_Item_Setup.xlsx','LexTaleEsp','./data/processed_data/exp_files/lexTaleListEng.csv')\n",
    "\n",
    "# creates csv for LexTALE English lists\n",
    "segFunctions.csv_from_excel('Segmentation_Experimental_Item_Setup.xlsx','LexTaleEng','./data/processed_data/exp_files/lexTaleListEsp.csv')\n",
    "\n",
    "# creates csv for Basic Language Profile Survey lists\n",
    "segFunctions.csv_from_excel('Segmentation_Experimental_Item_Setup.xlsx','BasicLangProfile','./data/processed_data/exp_files/sp_en_blp_trials.csv')"
   ]
  },
  {
   "cell_type": "markdown",
   "metadata": {},
   "source": [
    "This block of code converts the original complete lists into separate csv files broken out by condition. It then writes out 13 separate files to the temp_data folder for later, more fine-grained manipulation."
   ]
  },
  {
   "cell_type": "code",
   "execution_count": 2,
   "metadata": {},
   "outputs": [],
   "source": [
    "# creates list for all trial types\n",
    "\n",
    "trialType = ['exp','prac','sylexp','sylprac'] # list for trial type and naming\n",
    "condName = ['A','B','C','D'] # list for condition labels\n",
    "expsylRange = [0,47,0,47,48,96,48,96] # list for slicing syllable ranges\n",
    "expsegRange = [0,12,15,27,30,42,45,57] # list for slicing segmentation ranges\n",
    "pracsylRange = [0,9,0,9,10,19,10,19] # list for slicing syllable practice ranges\n",
    "\n",
    "# runs through each condition for practice and experimental list conditions\n",
    "for trial in trialType:\n",
    "    i = 0 # set counter for start syl and seg ranges\n",
    "    j = 1 # set counter for end syl and seg ranges\n",
    "    # Reads in the newly created csv files\n",
    "    df = pd.read_csv('./data/original_data/exp_files/' + trial + 'Lists_all.csv')\n",
    "\n",
    "    for cond in condName: # sets up loop to run through 4 conditions (ABCD)\n",
    "        if trial == 'sylprac': # Tests for sylprac lists\n",
    "            condition = df.loc[pracsylRange[i]:pracsylRange[j],:] # selects all rows for list\n",
    "            condition.to_csv('./data/temp_data/'+trial+'Cond'+cond+'.csv') # saves temp file for further work\n",
    "            i += 2 # adds two to value to change range\n",
    "            j += 2 # adds two to value to change range\n",
    "        elif trial == 'sylexp': # test for syllable lists\n",
    "            condition = df.loc[expsylRange[i]:expsylRange[j],:] # selects all rows for list\n",
    "            condition.to_csv('./data/temp_data/'+trial+'Cond'+cond+'.csv') # saves temp file for further work\n",
    "            i += 2 # adds two to value to change range\n",
    "            j += 2 # adds two to value to change range\n",
    "        else: # captures both practice and real segmentation experiment lists\n",
    "            condition = df.loc[expsegRange[i]:expsegRange[j],:] # selects all rows for list \n",
    "            condition.to_csv('./data/temp_data/'+trial+'Cond'+cond+'.csv') # saves temp file for further work\n",
    "            i += 2 # adds two to value to change range\n",
    "            j += 2 # adds two to value to change range"
   ]
  },
  {
   "cell_type": "markdown",
   "metadata": {},
   "source": [
    "# Historical Records ONLY\n",
    "### creates list for all trial types\n",
    "\n",
    "trialType = ['exp','prac','sylexp','sylprac'] # list for trial type and naming\n",
    "condName = ['A','B','C','D'] # list for condition labels\n",
    "expsylRange = [0,23,24,47,48,71,72,96] # list for slicing syllable ranges\n",
    "expsegRange = [0,12,15,27,30,42,45,57] # list for slicing segmentation ranges\n",
    "\n",
    "### runs through each condition for practice and experimental list conditions\n",
    "for trial in trialType:\n",
    "    i = 0 # set counter for start syl and seg ranges\n",
    "    j = 1 # set counter for end syl and seg ranges\n",
    "    # Reads in the newly created csv files\n",
    "    df = pd.read_csv('./data/original_data/exp_files/' + trial + 'Lists_all.csv')\n",
    "\n",
    "    # Tests for sylprac because it is the only file that doesn't contain 4 separate conditions\n",
    "    if trial == 'sylprac':\n",
    "        df.to_csv('./data/temp_data/'+trial+'.csv') # writes new csv to temp folder\n",
    "    else:\n",
    "        for cond in condName: # sets up loop to run through 4 conditions (ABCD)\n",
    "            if trial == 'sylexp': # test for syllable lists\n",
    "                condition = df.loc[expsylRange[i]:expsylRange[j],:] # selects all rows for list\n",
    "                condition.to_csv('./data/temp_data/'+trial+'Cond'+cond+'.csv') # saves temp file for further work\n",
    "                i += 2 # adds two to value to change range\n",
    "                j += 2 # adds two to value to change range\n",
    "            else: # captures both practice and real segmentation experiment lists\n",
    "                condition = df.loc[expsegRange[i]:expsegRange[j],:] # selects all rows for list \n",
    "                condition.to_csv('./data/temp_data/'+trial+'Cond'+cond+'.csv') # saves temp file for further work\n",
    "                i += 2 # adds two to value to change range\n",
    "                j += 2 # adds two to value to change range"
   ]
  },
  {
   "cell_type": "markdown",
   "metadata": {},
   "source": [
    "This block of code below reads in the information from the temp_data folder and further refines the dataframes. Following all dataframe manipulation, 13 new csv files to be used in PsychoPy3 experiments are written to the processed_data folder. The 13 files stored in the temp_folder remain unaltered in case review or debugging is necesary."
   ]
  },
  {
   "cell_type": "code",
   "execution_count": 3,
   "metadata": {},
   "outputs": [],
   "source": [
    "# Reads in new csv files from temp folder and makes final changes for PyschoPy\n",
    "\n",
    "# sets list letters for the four condition file names (used in practice and experiments)\n",
    "indexName = ['labels','labels','syllabification','syllabification'] # lists for dataframe indexing\n",
    "blockName = ['block01','block08','block48'] # lists for slice ranges\n",
    "k = 0 # sets counter for indexing list\n",
    "b = 2 # sets counter for slicing range list\n",
    "\n",
    "# runs through each of the 4 condition files \n",
    "for trial in trialType:\n",
    "    # captures all files types with 4 conditions\n",
    "    for cond in condName: # runs through all 4 conditions\n",
    "        df_cond = pd.read_csv('./data/temp_data/'+trial+'Cond'+cond+'.csv',index_col=indexName[k]) # read csv\n",
    "        # test to see whether header must be omitted\n",
    "        if trial == 'sylprac': # test for syl practice because filename is odd since only one condition exists\n",
    "            # deletes the unnamed column populated from Excel Row ranges\n",
    "            df_cond.drop('Unnamed: 0', axis = 1, inplace = True)\n",
    "            df_cond.to_csv('./data/processed_data/exp_files/'+trial+'Cond'+cond+'.csv') # writes csv file to processed folder\n",
    "        elif trial == 'sylexp': # tests for syl practice because header must be retained\n",
    "            df_cond.to_csv('./data/processed_data/exp_files/'+trial+'Cond'+cond+'.csv') # writes csv   \n",
    "        else: # captures both segmenation tasks with 4 conditions\n",
    "            # sorts the columns in dataframe alphabetically\n",
    "            df_cond = df_cond.reindex(sorted(df_cond.columns), axis=1)\n",
    "            clist_cond = df_cond.loc[:,blockName[0]:blockName[b]] #stores variable with subset data\n",
    "            # writes out the new csv to processed_data folder which is ready for PyschoPy\n",
    "            clist_cond.to_csv('./data/processed_data/exp_files/'+trial+'Cond'+cond+'.csv',header=False)\n",
    "    b=b-1 # lowers the blockName range counter to change for practice trials\n",
    "    k += 1 # increases indexing number to iterate to indexName list"
   ]
  },
  {
   "cell_type": "markdown",
   "metadata": {},
   "source": [
    "# Historical Record ONLY\n",
    "### Reads in new csv files from temp folder and makes final changes for PyschoPy\n",
    "\n",
    "### sets list letters for the four condition file names (used in practice and experiments)\n",
    "indexName = ['labels','labels','syllabification','syllabification'] # lists for dataframe indexing\n",
    "blockName = ['block01','block08','block48'] # lists for slice ranges\n",
    "k = 0 # sets counter for indexing list\n",
    "b = 2 # sets counter for slicing range list\n",
    "\n",
    "### runs through each of the 4 condition files \n",
    "for trial in trialType:\n",
    "    if trial == 'sylprac': # test for syl practice because filename is odd since only one condition exists\n",
    "        df_cond = pd.read_csv('./data/temp_data/'+trial+'.csv', index_col=indexName[k]) # reads csv file in\n",
    "        # deletes the unnamed column populated from Excel Row ranges\n",
    "        df_cond.drop('Unnamed: 0', axis = 1, inplace = True)\n",
    "        df_cond.to_csv('./data/processed_data/exp_files/'+trial+'.csv') # writes csv file to processed folder\n",
    "    else: # captures all files types with 4 conditions\n",
    "        for cond in condName: # runs through all 4 conditions\n",
    "            df_cond = pd.read_csv('./data/temp_data/'+trial+'Cond'+cond+'.csv',index_col=indexName[k]) # read csv\n",
    "            # deletes the unnamed column populated from Excel Row ranges\n",
    "            df_cond.drop('Unnamed: 0', axis = 1, inplace = True)\n",
    "            \n",
    "            # test to see whether header must be omitted\n",
    "            if trial == 'sylexp': # tests for syl practice because header must be retained\n",
    "                df_cond.to_csv('./data/processed_data/exp_files/'+trial+'Cond'+cond+'.csv') # writes csv   \n",
    "            else: # captures both segmenation tasks with 4 conditions\n",
    "                # sorts the columns in dataframe alphabetically\n",
    "                df_cond = df_cond.reindex(sorted(df_cond.columns), axis=1)\n",
    "                clist_cond = df_cond.loc[:,blockName[0]:blockName[b]] #stores variable with subset data\n",
    "                # writes out the new csv to processed_data folder which is ready for PyschoPy\n",
    "                clist_cond.to_csv('./data/processed_data/exp_files/'+trial+'Cond'+cond+'.csv',header=False)\n",
    "        b=b-1 # lowers the blockName range counter to change for practice trials\n",
    "    k += 1 # increases indexing number to iterate to indexName list"
   ]
  },
  {
   "cell_type": "markdown",
   "metadata": {},
   "source": [
    "At this point all input files are ready for PyschoPy3 experiment. They will be used as condition files for participants. The data upto this point has all been stored at '.data/processed_data/exp_files'. The output files from participants completing the experimental tasks will be written to '.data/original_data/part_files'."
   ]
  },
  {
   "cell_type": "markdown",
   "metadata": {},
   "source": [
    "# Participant file manipulations begin here:\n",
    "The files output in the '.data/original_data/part_files' will serve as the starting point here, but no data file will be overwritten or moved. The raw output files will remain unaltered and in the original storage location. All csv files will be read in from this location and written out to the temp_data folder. "
   ]
  },
  {
   "cell_type": "markdown",
   "metadata": {},
   "source": [
    "# Testing\n",
    "the stuf below this point is in a working progress. It is not ready to run and should be approached with caution caution."
   ]
  },
  {
   "cell_type": "markdown",
   "metadata": {},
   "source": [
    "# All this code was negated by the fact that I could just use the .upper() method inside of PsychoPy.\n",
    "This should be the preferred method moving forward\n",
    "\n",
    "import pandas as pd\n",
    "trial = 'exp'\n",
    "cond = 'A'\n",
    "indexName = ['labels']\n",
    "blockName = ['block01','block08','block48'] # lists for slice ranges\n",
    "\n",
    "k = 0\n",
    "df_test = pd.read_csv('./data/temp_data/'+trial+'Cond'+cond+'.csv',index_col=indexName[k]) # read csv\n",
    "df_test = df_test.reindex(sorted(df_test.columns), axis=1)\n",
    "clist_test = df_test.loc[:,blockName[0]:blockName[2]] #stores variable with subset data\n",
    "# capitals\n",
    "test = clist_test.iloc[2:3]\n",
    "print(test)\n",
    "\n",
    "clist_test"
   ]
  },
  {
   "cell_type": "code",
   "execution_count": null,
   "metadata": {},
   "outputs": [],
   "source": []
  }
 ],
 "metadata": {
  "kernelspec": {
   "display_name": "Python 3",
   "language": "python",
   "name": "python3"
  },
  "language_info": {
   "codemirror_mode": {
    "name": "ipython",
    "version": 3
   },
   "file_extension": ".py",
   "mimetype": "text/x-python",
   "name": "python",
   "nbconvert_exporter": "python",
   "pygments_lexer": "ipython3",
   "version": "3.7.1"
  }
 },
 "nbformat": 4,
 "nbformat_minor": 2
}
