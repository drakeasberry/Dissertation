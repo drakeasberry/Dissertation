{
 "cells": [
  {
   "cell_type": "code",
   "execution_count": null,
   "metadata": {},
   "outputs": [],
   "source": [
    "import pandas as pd\n",
    "pd.set_option('display.max_rows', 500)\n",
    "pd.set_option('display.max_columns',200)\n",
    "header_string = 'Order,Word,Translation,corrAnsEspV,practiceListA,practiceListA0,practiceListA1,practiceListA2,practiceListA3,practiceList4,practiceListA5,practiceListA6,practiceListA7,conditionA,stimuliListA0,stimuliListA1,stimuliListA2,stimuliListA3,stimuliListA4,stimuliListA5,stimuliListA6,stimuliListA7,stimuliListA8,stimuliListA9,stimuliListA10,stimuliListA11,stimuliListA12,stimuliListA13,stimuliListA14,stimuliListA15,stimuliListA16,stimuliListA17,stimuliListA18,stimuliListA19,stimuliListA20,stimuliListA21,stimuliListA22,stimuliListA23,stimuliListA24,stimuliListA25,stimuliListA26,stimuliListA27,stimuliListA28,stimuliListA29,stimuliListA30,stimuliListA31,stimuliListA32,stimuliListA33,stimuliListA34,stimuliListA35,stimuliListA36,stimuliListA37,stimuliListA38,stimuliListA39,stimuliListA40,stimuliListA41,stimuliListA42,stimuliListA43,stimuliListA44,stimuliListA45,stimuliListA46,stimuliListA47,syllabification,corrSyl,corrAns,leftKey,rightKey,condition,corrAnsEngV,questionNum,color,sectionEng,questionTextEng,languageEng,sectionEsp,questionTextEsp,languageEsp,lexEspLoop.thisRepN,lexEspLoop.thisTrialN,lexEspLoop.thisN,lexEspLoop.thisIndex,pracTarLoop.thisRepN,pracTarLoop.thisTrialN,pracTarLoop.thisN,pracTarLoop.thisIndex,pracTrialLoop.thisRepN,pracTrialLoop.thisTrialN,pracTrialLoop.thisN,pracTrialLoop.thisIndex,expTarLoop.thisRepN,expTarLoop.thisTrialN,expTarLoop.thisN,expTarLoop.thisIndex,expTrialLoop.thisRepN,expTrialLoop.thisTrialN,expTrialLoop.thisN,expTrialLoop.thisIndex,sylPracLoop.thisRepN,sylPracLoop.thisTrialN,sylPracLoop.thisN,sylPracLoop.thisIndex,syllableLoop.thisRepN,syllableLoop.thisTrialN,syllableLoop.thisN,syllableLoop.thisIndex,lexEngLoop.thisRepN,lexEngLoop.thisTrialN,lexEngLoop.thisN,lexEngLoop.thisIndex,trials_blp_hist.thisRepN,trials_blp_hist.thisTrialN,trials_blp_hist.thisN,trials_blp_hist.thisIndex,trials_blp_hist_2.thisRepN,trials_blp_hist_2.thisTrialN,trials_blp_hist_2.thisN,trials_blp_hist_2.thisIndex,trials_blp_hist_3.thisRepN,trials_blp_hist_3.thisTrialN,trials_blp_hist_3.thisN,trials_blp_hist_3.thisIndex,trials_blp_use.thisRepN,trials_blp_use.thisTrialN,trials_blp_use.thisN,trials_blp_use.thisIndex,trials_blp_prof.thisRepN,trials_blp_prof.thisTrialN,trials_blp_prof.thisN,trials_blp_prof.thisIndex,trials_blp_att.thisRepN,trials_blp_att.thisTrialN,trials_blp_att.thisN,trials_blp_att.thisIndex,lexEsp_key_resp.keys,lexEsp_key_resp.corr,lexEsp_key_resp.rt,seg_key_resp.keys,seg_key_resp.rt,expSyl_key_resp.keys,expSyl_key_resp.corr,expSyl_key_resp.rt,lexEng_key_resp.keys,lexEng_key_resp.corr,lexEng_key_resp.rt,rating_lang_hist.response,rating_lang_hist.rt,rating_lang_hist_2.response,rating_lang_hist_2.rt,rating_lang_hist_3.response,rating_lang_hist_3.rt,rating_blp_use.response,rating_blp_use.rt,rating_lang_prof.response,rating_lang_prof.rt,rating_lang_att.response,rating_lang_att.rt,01_Participante (Participant):,02_Sesión (Session):,03_Nombre (First name):,04_Apellido (Last name):,05_Edad (Age):,06_Sexo (Gender):,07_País de nacimiento (Birth country):,08_Lugar de residencia (Place of residence):,09_Nivel más alto de formación académica (Highest level of formal education):,10_Idioma preferido (Preferred language):,date,expName,psychopyVersion,frameRate,blah'\n",
    "#header_string = 'NewDrakeOrder,TheWordIsDrake,Translation,corrAnsEspV,practiceListA,practiceListA0,practiceListA1,practiceListA2,practiceListA3,practiceList4,practiceListA5,practiceListA6,practiceListA7,conditionA,stimuliListA0,stimuliListA1,stimuliListA2,stimuliListA3,stimuliListA4,stimuliListA5,stimuliListA6,stimuliListA7,stimuliListA8,stimuliListA9,stimuliListA10,stimuliListA11,stimuliListA12,stimuliListA13,stimuliListA14,stimuliListA15,stimuliListA16,stimuliListA17,stimuliListA18,stimuliListA19,stimuliListA20,stimuliListA21,stimuliListA22,stimuliListA23,stimuliListA24,stimuliListA25,stimuliListA26,stimuliListA27,stimuliListA28,stimuliListA29,stimuliListA30,stimuliListA31,stimuliListA32,stimuliListA33,stimuliListA34,stimuliListA35,stimuliListA36,stimuliListA37,stimuliListA38,stimuliListA39,stimuliListA40,stimuliListA41,stimuliListA42,stimuliListA43,stimuliListA44,stimuliListA45,stimuliListA46,stimuliListA47,syllabification,corrSyl,corrAns,leftKey,rightKey,condition,corrAnsEngV,questionNum,color,sectionEng,questionTextEng,languageEng,sectionEsp,questionTextEsp,languageEsp,lexEspLoop.thisRepN,lexEspLoop.thisTrialN,lexEspLoop.thisN,lexEspLoop.thisIndex,pracTarLoop.thisRepN,pracTarLoop.thisTrialN,pracTarLoop.thisN,pracTarLoop.thisIndex,pracTrialLoop.thisRepN,pracTrialLoop.thisTrialN,pracTrialLoop.thisN,pracTrialLoop.thisIndex,expTarLoop.thisRepN,expTarLoop.thisTrialN,expTarLoop.thisN,expTarLoop.thisIndex,expTrialLoop.thisRepN,expTrialLoop.thisTrialN,expTrialLoop.thisN,expTrialLoop.thisIndex,sylPracLoop.thisRepN,sylPracLoop.thisTrialN,sylPracLoop.thisN,sylPracLoop.thisIndex,syllableLoop.thisRepN,syllableLoop.thisTrialN,syllableLoop.thisN,syllableLoop.thisIndex,lexEngLoop.thisRepN,lexEngLoop.thisTrialN,lexEngLoop.thisN,lexEngLoop.thisIndex,trials_blp_hist.thisRepN,trials_blp_hist.thisTrialN,trials_blp_hist.thisN,trials_blp_hist.thisIndex,trials_blp_hist_2.thisRepN,trials_blp_hist_2.thisTrialN,trials_blp_hist_2.thisN,trials_blp_hist_2.thisIndex,trials_blp_hist_3.thisRepN,trials_blp_hist_3.thisTrialN,trials_blp_hist_3.thisN,trials_blp_hist_3.thisIndex,trials_blp_use.thisRepN,trials_blp_use.thisTrialN,trials_blp_use.thisN,trials_blp_use.thisIndex,trials_blp_prof.thisRepN,trials_blp_prof.thisTrialN,trials_blp_prof.thisN,trials_blp_prof.thisIndex,trials_blp_att.thisRepN,trials_blp_att.thisTrialN,trials_blp_att.thisN,trials_blp_att.thisIndex,lexEsp_key_resp.keys,lexEsp_key_resp.corr,lexEsp_key_resp.rt,seg_key_resp.keys,seg_key_resp.rt,expSyl_key_resp.keys,expSyl_key_resp.corr,expSyl_key_resp.rt,lexEng_key_resp.keys,lexEng_key_resp.corr,lexEng_key_resp.rt,rating_lang_hist.response,rating_lang_hist.rt,rating_lang_hist_2.response,rating_lang_hist_2.rt,rating_lang_hist_3.response,rating_lang_hist_3.rt,rating_blp_use.response,rating_blp_use.rt,rating_lang_prof.response,rating_lang_prof.rt,rating_lang_att.response,rating_lang_att.rt,01_Participante (Participant):,02_Sesión (Session):,03_Nombre (First name):,04_Apellido (Last name):,05_Edad (Age):,06_Sexo (Gender):,07_País de nacimiento (Birth country):,08_Lugar de residencia (Place of residence):,09_Nivel más alto de formación académica (Highest level of formal education):,10_Idioma preferido (Preferred language):,date,expName,psychopyVersion,frameRate,blah'\n",
    "header_names = header_string.split(',')\n",
    "#print(header_names)\n",
    "df = pd.read_csv('csv/part001_inglés_A_Segmentation.csv', names=header_names, header=0)\n",
    "df_popped = df.drop(columns=['03_Nombre (First name):','04_Apellido (Last name):','frameRate'])\n",
    "#help(pd.read_csv)"
   ]
  },
  {
   "cell_type": "code",
   "execution_count": null,
   "metadata": {},
   "outputs": [],
   "source": [
    "df_popped"
   ]
  },
  {
   "cell_type": "code",
   "execution_count": null,
   "metadata": {},
   "outputs": [],
   "source": [
    "df_popped.frameRate.unique()\n"
   ]
  },
  {
   "cell_type": "code",
   "execution_count": null,
   "metadata": {},
   "outputs": [],
   "source": [
    "help(df)"
   ]
  },
  {
   "cell_type": "code",
   "execution_count": null,
   "metadata": {},
   "outputs": [],
   "source": [
    "unique_values_column=df_popped.columns\n",
    "print(unique_values_column)"
   ]
  },
  {
   "cell_type": "code",
   "execution_count": null,
   "metadata": {},
   "outputs": [],
   "source": [
    "lexTale = df.loc[:,['Word','Translation','corrAnsEspV','corrAnsEngV','lexEsp_key_resp.keys','lexEsp_key_resp.corr','lexEsp_key_resp.rt','lexEng_key_resp.keys','lexEng_key_resp.corr','lexEng_key_resp.rt']]\n",
    "lexTale"
   ]
  },
  {
   "cell_type": "code",
   "execution_count": null,
   "metadata": {},
   "outputs": [],
   "source": [
    "header_list = list(df)"
   ]
  },
  {
   "cell_type": "code",
   "execution_count": null,
   "metadata": {},
   "outputs": [],
   "source": [
    "header_list"
   ]
  },
  {
   "cell_type": "code",
   "execution_count": null,
   "metadata": {},
   "outputs": [],
   "source": [
    "print(',' .join(header_list))"
   ]
  },
  {
   "cell_type": "code",
   "execution_count": null,
   "metadata": {},
   "outputs": [],
   "source": [
    "header_string = '''Order,Word,Translation,corrAnsEspV,practiceListA,practiceListA0,practiceListA1,practiceListA2,\n",
    "practiceListA3,practiceList4,practiceListA5,practiceListA6,practiceListA7,conditionA,stimuliListA0,stimuliListA1,\n",
    "stimuliListA2,stimuliListA3,stimuliListA4,stimuliListA5,stimuliListA6,stimuliListA7,stimuliListA8,stimuliListA9,\n",
    "stimuliListA10,stimuliListA11,stimuliListA12,stimuliListA13,stimuliListA14,stimuliListA15,stimuliListA16,\n",
    "stimuliListA17,stimuliListA18,stimuliListA19,stimuliListA20,stimuliListA21,stimuliListA22,stimuliListA23,\n",
    "stimuliListA24,stimuliListA25,stimuliListA26,stimuliListA27,stimuliListA28,stimuliListA29,stimuliListA30,\n",
    "stimuliListA31,stimuliListA32,stimuliListA33,stimuliListA34,stimuliListA35,stimuliListA36,stimuliListA37,\n",
    "stimuliListA38,stimuliListA39,stimuliListA40,stimuliListA41,stimuliListA42,stimuliListA43,stimuliListA44,\n",
    "stimuliListA45,stimuliListA46,stimuliListA47,syllabification,corrSyl,corrAns,leftKey,rightKey,condition,corrAnsEngV,\n",
    "questionNum,color,sectionEng,questionTextEng,languageEng,sectionEsp,questionTextEsp,languageEsp,lexEspLoop.thisRepN,\n",
    "lexEspLoop.thisTrialN,lexEspLoop.thisN,lexEspLoop.thisIndex,pracTarLoop.thisRepN,pracTarLoop.thisTrialN,\n",
    "pracTarLoop.thisN,pracTarLoop.thisIndex,pracTrialLoop.thisRepN,pracTrialLoop.thisTrialN,pracTrialLoop.thisN,\n",
    "pracTrialLoop.thisIndex,expTarLoop.thisRepN,expTarLoop.thisTrialN,expTarLoop.thisN,expTarLoop.thisIndex,\n",
    "expTrialLoop.thisRepN,expTrialLoop.thisTrialN,expTrialLoop.thisN,expTrialLoop.thisIndex,sylPracLoop.thisRepN,\n",
    "sylPracLoop.thisTrialN,sylPracLoop.thisN,sylPracLoop.thisIndex,syllableLoop.thisRepN,syllableLoop.thisTrialN,\n",
    "syllableLoop.thisN,syllableLoop.thisIndex,lexEngLoop.thisRepN,lexEngLoop.thisTrialN,lexEngLoop.thisN,\n",
    "lexEngLoop.thisIndex,trials_blp_hist.thisRepN,trials_blp_hist.thisTrialN,trials_blp_hist.thisN,\n",
    "trials_blp_hist.thisIndex,trials_blp_hist_2.thisRepN,trials_blp_hist_2.thisTrialN,trials_blp_hist_2.thisN,\n",
    "trials_blp_hist_2.thisIndex,trials_blp_hist_3.thisRepN,trials_blp_hist_3.thisTrialN,trials_blp_hist_3.thisN,\n",
    "trials_blp_hist_3.thisIndex,trials_blp_use.thisRepN,trials_blp_use.thisTrialN,trials_blp_use.thisN,\n",
    "trials_blp_use.thisIndex,trials_blp_prof.thisRepN,trials_blp_prof.thisTrialN,trials_blp_prof.thisN,\n",
    "trials_blp_prof.thisIndex,trials_blp_att.thisRepN,trials_blp_att.thisTrialN,trials_blp_att.thisN,\n",
    "trials_blp_att.thisIndex,lexEsp_key_resp.keys,lexEsp_key_resp.corr,lexEsp_key_resp.rt,seg_key_resp.keys,\n",
    "seg_key_resp.rt,expSyl_key_resp.keys,expSyl_key_resp.corr,expSyl_key_resp.rt,lexEng_key_resp.keys,\n",
    "lexEng_key_resp.corr,lexEng_key_resp.rt,rating_lang_hist.response,rating_lang_hist.rt,rating_lang_hist_2.response,\n",
    "rating_lang_hist_2.rt,rating_lang_hist_3.response,rating_lang_hist_3.rt,rating_blp_use.response,rating_blp_use.rt,\n",
    "rating_lang_prof.response,rating_lang_prof.rt,rating_lang_att.response,rating_lang_att.rt,\n",
    "01_Participante (Participant):,02_Sesión (Session):,03_Nombre (First name):,04_Apellido (Last name):,\n",
    "05_Edad (Age):,06_Sexo (Gender):,07_País de nacimiento (Birth country):,08_Lugar de residencia (Place of residence):,\n",
    "09_Nivel más alto de formación académica (Highest level of formal education):,\n",
    "10_Idioma preferido (Preferred language):,date,expName,psychopyVersion,frameRate,blah'''"
   ]
  },
  {
   "cell_type": "code",
   "execution_count": null,
   "metadata": {},
   "outputs": [],
   "source": [
    "import pandas as pd\n",
    "import glob\n",
    "pd.set_option('display.max_rows', 500)\n",
    "pd.set_option('display.max_columns',200)"
   ]
  },
  {
   "cell_type": "code",
   "execution_count": null,
   "metadata": {},
   "outputs": [],
   "source": [
    "df = pd.read_csv('csv/part001_inglés_A_Segmentation.csv')\n",
    "df.info()\n",
    "csvList = glob.glob('csv/*.csv')\n",
    "csvList"
   ]
  },
  {
   "cell_type": "code",
   "execution_count": null,
   "metadata": {},
   "outputs": [],
   "source": [
    "import json\n",
    "df = pd.read_csv('csv/part001_inglés_A_Segmentation.csv')\n",
    "originalHeader = list(df)\n",
    "#print(originalHeader)"
   ]
  },
  {
   "cell_type": "code",
   "execution_count": null,
   "metadata": {},
   "outputs": [],
   "source": [
    "with open('../replacement_map.json', 'r') as json_file:\n",
    "    replacement_map = json.load(json_file)\n",
    "#print(replacement_map)"
   ]
  },
  {
   "cell_type": "code",
   "execution_count": null,
   "metadata": {},
   "outputs": [],
   "source": [
    "newHeader = [replacement_map.get(originalName) or originalName for originalName in originalHeader]\n",
    "#print(newHeader)"
   ]
  },
  {
   "cell_type": "code",
   "execution_count": null,
   "metadata": {},
   "outputs": [],
   "source": [
    "df.to_csv('csv/temp_csv/modified_part001_inglés_A_Segmentation.csv', header=newHeader)"
   ]
  },
  {
   "cell_type": "markdown",
   "metadata": {},
   "source": [
    "# Cleaner Version"
   ]
  },
  {
   "cell_type": "markdown",
   "metadata": {},
   "source": [
    "import pandas as pd\n",
    "import glob\n",
    "import json\n",
    "import os\n",
    "\n",
    "pd.set_option('display.max_rows', 500)\n",
    "pd.set_option('display.max_columns',200)\n",
    "parentDir = os.getcwd()\n",
    "#print(parentDir)\n",
    "startDir = parentDir +'/csv'\n",
    "#print(startDir)\n",
    "tempDir = startDir + '/temp_csv'\n",
    "#print(tempDir)\n",
    "ros.chdir(startDir)\n",
    "csvList = glob.glob('*.csv')\n",
    "#print(csvList)\n",
    "os.chdir(parentDir)\n",
    "\n",
    "with open('../replacement_map.json', 'r') as json_file:\n",
    "    replacement_map = json.load(json_file)\n",
    "    \n",
    "for file in csvList:\n",
    "    #print(startDir)\n",
    "    #print(file)\n",
    "    readDir = startDir + '/' + file\n",
    "    #print(readDir)\n",
    "    df = pd.read_csv(readDir)\n",
    "    originalHeader = list(df)\n",
    "    newHeader = [replacement_map.get(originalName) or originalName for originalName in originalHeader]\n",
    "    #print(tempDir)\n",
    "    #print(file)\n",
    "    writeDir = tempDir + '/' + file\n",
    "    #print(writeDir)\n",
    "    df.to_csv(writeDir, header=newHeader)\n",
    "    "
   ]
  },
  {
   "cell_type": "code",
   "execution_count": 6,
   "metadata": {},
   "outputs": [],
   "source": [
    "import pandas as pd\n",
    "import os\n",
    "import sys\n",
    "sys.path.append('../../scripts/') #How do I avoid having to add this line?\n",
    "import dataPreparation\n",
    "\n",
    "# Change viewing settings for pandas dataframe\n",
    "pd.set_option('display.max_rows', 500)\n",
    "pd.set_option('display.max_columns',200)\n",
    "\n",
    "# Set some global variables\n",
    "parentDir = os.getcwd()\n",
    "startDir = '../../Dissertation_Experiments/segmentation/data/original_data/part_files/'\n",
    "tempDir = '../../Dissertation_Experiments/segmentation/data/temp_data'\n",
    "outDir = '../../Dissertation_Experiments/segmentation/data/processed_data/part_files'\n",
    "statsSegDir = '../../Dissertation_Stats/Syllable_Segmentation/analyze_data/temp_data'\n",
    "demCols = ['partNum', 'session', 'age', 'gender', 'birthCountry', 'placeResidence', 'education', 'preferLanguage', 'date', 'expName']\n",
    "lexDuplicates = ['word', 'translation']\n",
    "lexEsp = ['corrAnsEspV', 'lexRespEsp', 'lexRespEspCorr', 'lexRespEspRT']\n",
    "lexEng = ['corrAnsEngV', 'lexRespEng', 'lexRespEngCorr', 'lexRespEngRT']\n",
    "syl = ['syllabification', 'corrSyl', 'corrAns', 'leftKey', 'rightKey', 'condition', 'sylResp', 'sylRespCorr', 'sylRespRT',]\n",
    "blp = ['questionNum', 'color', 'sectionEng', 'questionTextEng', 'languageEng', 'langHistResp1', 'langHistRT1', 'langHistResp2', 'langHistRT2', 'langHistResp3', 'langHistRT3', 'langUseResp', 'langUseRT', 'langProfResp', 'langProfRT', 'langAttResp', 'langAttRT']\n",
    "seg = ['fillerCarrier', 'block01', 'block02', 'block03', 'block04', 'block05', 'block06', 'block07', 'block08', 'block09', 'block10', 'block11', 'block12', 'block13', 'block14', 'block15', 'block16', 'block17', 'block18', 'block19', 'block20', 'block21', 'block22', 'block23', 'block24', 'block25', 'block26', 'block27', 'block28', 'block29', 'block30', 'block31', 'block32', 'block33', 'block34', 'block35', 'block36', 'block37', 'block38', 'block39', 'block40', 'block41', 'block42', 'block43', 'block44', 'block45', 'block46', 'block47', 'block48', 'segResp', 'segRespRT']\n",
    "\n",
    "lexEspCols = [*lexDuplicates,*lexEsp,*demCols]\n",
    "lexEngCols = [*lexDuplicates,*lexEng,*demCols]\n",
    "sylCols = [*syl,*demCols]\n",
    "blpCols = [*blp,*demCols]\n",
    "segCols = [*seg,*demCols]\n",
    "segKeepCols = [*lexDuplicates,*lexEsp,*lexEng,*sylCols,*segCols,*blpCols,*demCols]\n",
    "listOfLists = [demCols,lexEngCols,lexEspCols,sylCols,blpCols,segCols]\n",
    "\n",
    "# Find all csv files in directory\n",
    "csvList = dataPreparation.collectFiles(parentDir,startDir)\n",
    "# Replace all header row names without more appropriate ones\n",
    "dataPreparation.reMapPandasHeaders('../replacement_map.json',csvList,startDir,tempDir)\n",
    "\n",
    "# get previously modified csv file as list\n",
    "csvModList = dataPreparation.collectFiles(parentDir,tempDir)\n",
    "# Eliminates all unnecessary columns written by PsychoPy\n",
    "dataPreparation.delPsyPyCols(csvModList,segKeepCols,tempDir, outDir)\n",
    "\n",
    "# get previously modified csv file as list\n",
    "csvTaskList = dataPreparation.collectFiles(parentDir,outDir)\n",
    "# Eliminates all unnecessary columns written by PsychoPy\n",
    "dataPreparation.delPsyPyCols(csvTaskList,segKeepCols,outDir,statsSegDir)"
   ]
  },
  {
   "cell_type": "code",
   "execution_count": 7,
   "metadata": {},
   "outputs": [
    {
     "name": "stdout",
     "output_type": "stream",
     "text": [
      "127\n"
     ]
    }
   ],
   "source": [
    "statsOutDir = '../../Dissertation_Stats/Syllable_Segmentation/analyze_data/rFiles'\n",
    "print(len(segKeepCols))\n",
    "# get previously modified csv file as list\n",
    "csvFinalList = dataPreparation.collectFiles(parentDir,statsSegDir)\n",
    "# Eliminates all unnecessary columns written by PsychoPy\n",
    "dataPreparation.delPsyPyCols(csvFinalList,sylCols,statsSegDir,statsOutDir)"
   ]
  },
  {
   "cell_type": "code",
   "execution_count": 7,
   "metadata": {},
   "outputs": [
    {
     "name": "stdout",
     "output_type": "stream",
     "text": [
      "<class 'pandas.core.frame.DataFrame'>\n",
      "Int64Index: 873 entries, 0 to 872\n",
      "Data columns (total 97 columns):\n",
      "word               156 non-null object\n",
      "translation        93 non-null object\n",
      "corrAnsEspV        93 non-null float64\n",
      "fillerCarrier      528 non-null object\n",
      "block01            528 non-null object\n",
      "block02            528 non-null object\n",
      "block03            528 non-null object\n",
      "block04            528 non-null object\n",
      "block05            528 non-null object\n",
      "block06            528 non-null object\n",
      "block07            528 non-null object\n",
      "block08            528 non-null object\n",
      "block09            528 non-null object\n",
      "block10            528 non-null object\n",
      "block11            528 non-null object\n",
      "block12            528 non-null object\n",
      "block13            528 non-null object\n",
      "block14            528 non-null object\n",
      "block15            528 non-null object\n",
      "block16            528 non-null object\n",
      "block17            528 non-null object\n",
      "block18            528 non-null object\n",
      "block19            528 non-null object\n",
      "block20            528 non-null object\n",
      "block21            528 non-null object\n",
      "block22            528 non-null object\n",
      "block23            528 non-null object\n",
      "block24            528 non-null object\n",
      "block25            528 non-null object\n",
      "block26            528 non-null object\n",
      "block27            528 non-null object\n",
      "block28            528 non-null object\n",
      "block29            528 non-null object\n",
      "block30            528 non-null object\n",
      "block31            528 non-null object\n",
      "block32            528 non-null object\n",
      "block33            528 non-null object\n",
      "block34            528 non-null object\n",
      "block35            528 non-null object\n",
      "block36            528 non-null object\n",
      "block37            528 non-null object\n",
      "block38            528 non-null object\n",
      "block39            528 non-null object\n",
      "block40            528 non-null object\n",
      "block41            528 non-null object\n",
      "block42            528 non-null object\n",
      "block43            528 non-null object\n",
      "block44            528 non-null object\n",
      "block45            528 non-null object\n",
      "block46            528 non-null object\n",
      "block47            528 non-null object\n",
      "block48            528 non-null object\n",
      "syllabification    58 non-null object\n",
      "corrSyl            58 non-null object\n",
      "corrAns            58 non-null float64\n",
      "leftKey            58 non-null object\n",
      "rightKey           58 non-null object\n",
      "condition          58 non-null object\n",
      "corrAnsEngV        63 non-null float64\n",
      "questionNum        43 non-null object\n",
      "color              43 non-null object\n",
      "sectionEng         43 non-null object\n",
      "questionTextEng    43 non-null object\n",
      "languageEng        43 non-null object\n",
      "lexRespEsp         93 non-null float64\n",
      "lexRespEspCorr     93 non-null float64\n",
      "lexRespEspRT       93 non-null float64\n",
      "segResp            480 non-null object\n",
      "segRespRT          47 non-null float64\n",
      "sylResp            48 non-null float64\n",
      "sylRespCorr        48 non-null float64\n",
      "sylRespRT          48 non-null float64\n",
      "lexRespEng         63 non-null float64\n",
      "lexRespEngCorr     63 non-null float64\n",
      "lexRespEngRT       63 non-null float64\n",
      "langHistResp1      2 non-null float64\n",
      "langHistRT1        2 non-null float64\n",
      "langHistResp2      2 non-null float64\n",
      "langHistRT2        2 non-null float64\n",
      "langHistResp3      8 non-null float64\n",
      "langHistRT3        8 non-null float64\n",
      "langUseResp        15 non-null float64\n",
      "langUseRT          15 non-null float64\n",
      "langProfResp       8 non-null float64\n",
      "langProfRT         8 non-null float64\n",
      "langAttResp        8 non-null float64\n",
      "langAttRT          8 non-null float64\n",
      "partNum            873 non-null object\n",
      "session            873 non-null object\n",
      "age                873 non-null int64\n",
      "gender             873 non-null object\n",
      "birthCountry       873 non-null object\n",
      "placeResidence     873 non-null object\n",
      "education          873 non-null object\n",
      "preferLanguage     873 non-null object\n",
      "date               873 non-null object\n",
      "expName            873 non-null object\n",
      "dtypes: float64(25), int64(1), object(71)\n",
      "memory usage: 668.4+ KB\n"
     ]
    }
   ],
   "source": [
    "csvProcList = dataPreparation.collectFiles(parentDir,outDir)\n",
    "#print(csvProcList,len(csvProcList))\n",
    "for file in csvProcList[0:1]:\n",
    "    readDir = outDir + '/' + file\n",
    "    df = pd.read_csv(readDir, index_col=0)\n",
    "    \n",
    "df.info()"
   ]
  },
  {
   "cell_type": "markdown",
   "metadata": {},
   "source": [
    "csvModList = dataPreparation.collectFiles(parentDir,tempDir)\n",
    "#print(len(csvModList))\n",
    "#dataPreparation.reMapPandasHeaders('../replacement_map.json',csvModList,tempDir,outDir)\n",
    "for file in csvModList:\n",
    "        readDir = tempDir + '/' + file\n",
    "        df = pd.read_csv(readDir, index_col=0)\n",
    "        #originalHeader = list(df)\n",
    "        #newHeader = [replacement_map.get(originalName) or originalName for originalName in originalHeader]\n",
    "        \n",
    "        #df.to_csv(writeDir, header=newHeader)\n",
    "        #print(originalHeader, len(originalHeader))\n",
    "        new_df = df.loc[:, df.columns.isin(segKeepCols)]\n",
    "        #print(new_df.columns)\n",
    "        writeDir = outDir + '/' + file\n",
    "        #print(writeDir)\n",
    "        new_df.to_csv(writeDir)"
   ]
  },
  {
   "cell_type": "code",
   "execution_count": 3,
   "metadata": {},
   "outputs": [
    {
     "name": "stdout",
     "output_type": "stream",
     "text": [
      "<class 'pandas.core.frame.DataFrame'>\n",
      "Int64Index: 873 entries, 0 to 872\n",
      "Data columns (total 100 columns):\n",
      "word               156 non-null object\n",
      "translation        93 non-null object\n",
      "corrAnsEspV        93 non-null float64\n",
      "fillerCarrier      528 non-null object\n",
      "block01            528 non-null object\n",
      "block02            528 non-null object\n",
      "block03            528 non-null object\n",
      "block04            528 non-null object\n",
      "block05            528 non-null object\n",
      "block06            528 non-null object\n",
      "block07            528 non-null object\n",
      "block08            528 non-null object\n",
      "block09            528 non-null object\n",
      "block10            528 non-null object\n",
      "block11            528 non-null object\n",
      "block12            528 non-null object\n",
      "block13            528 non-null object\n",
      "block14            528 non-null object\n",
      "block15            528 non-null object\n",
      "block16            528 non-null object\n",
      "block17            528 non-null object\n",
      "block18            528 non-null object\n",
      "block19            528 non-null object\n",
      "block20            528 non-null object\n",
      "block21            528 non-null object\n",
      "block22            528 non-null object\n",
      "block23            528 non-null object\n",
      "block24            528 non-null object\n",
      "block25            528 non-null object\n",
      "block26            528 non-null object\n",
      "block27            528 non-null object\n",
      "block28            528 non-null object\n",
      "block29            528 non-null object\n",
      "block30            528 non-null object\n",
      "block31            528 non-null object\n",
      "block32            528 non-null object\n",
      "block33            528 non-null object\n",
      "block34            528 non-null object\n",
      "block35            528 non-null object\n",
      "block36            528 non-null object\n",
      "block37            528 non-null object\n",
      "block38            528 non-null object\n",
      "block39            528 non-null object\n",
      "block40            528 non-null object\n",
      "block41            528 non-null object\n",
      "block42            528 non-null object\n",
      "block43            528 non-null object\n",
      "block44            528 non-null object\n",
      "block45            528 non-null object\n",
      "block46            528 non-null object\n",
      "block47            528 non-null object\n",
      "block48            528 non-null object\n",
      "syllabification    58 non-null object\n",
      "corrSyl            58 non-null object\n",
      "corrAns            58 non-null float64\n",
      "leftKey            58 non-null object\n",
      "rightKey           58 non-null object\n",
      "condition          58 non-null object\n",
      "corrAnsEngV        63 non-null float64\n",
      "questionNum        43 non-null object\n",
      "color              43 non-null object\n",
      "sectionEng         43 non-null object\n",
      "questionTextEng    43 non-null object\n",
      "languageEng        43 non-null object\n",
      "sectionEsp         43 non-null object\n",
      "questionTextEsp    43 non-null object\n",
      "languageEsp        43 non-null object\n",
      "lexRespEsp         93 non-null float64\n",
      "lexRespEspCorr     93 non-null float64\n",
      "lexRespEspRT       93 non-null float64\n",
      "segResp            480 non-null object\n",
      "segRespRT          47 non-null float64\n",
      "sylResp            48 non-null float64\n",
      "sylRespCorr        48 non-null float64\n",
      "sylRespRT          48 non-null float64\n",
      "lexRespEng         63 non-null float64\n",
      "lexRespEngCorr     63 non-null float64\n",
      "lexRespEngRT       63 non-null float64\n",
      "langHistResp1      2 non-null float64\n",
      "langHistRT1        2 non-null float64\n",
      "langHistResp2      2 non-null float64\n",
      "langHistRT2        2 non-null float64\n",
      "langHistResp3      8 non-null float64\n",
      "langHistRT3        8 non-null float64\n",
      "langUseResp        15 non-null float64\n",
      "langUseRT          15 non-null float64\n",
      "langProfResp       8 non-null float64\n",
      "langProfRT         8 non-null float64\n",
      "langAttResp        8 non-null float64\n",
      "langAttRT          8 non-null float64\n",
      "partNum            873 non-null object\n",
      "session            873 non-null object\n",
      "age                873 non-null int64\n",
      "gender             873 non-null object\n",
      "birthCountry       873 non-null object\n",
      "placeResidence     873 non-null object\n",
      "education          873 non-null object\n",
      "preferLanguage     873 non-null object\n",
      "date               873 non-null object\n",
      "expName            873 non-null object\n",
      "dtypes: float64(25), int64(1), object(74)\n",
      "memory usage: 688.9+ KB\n"
     ]
    }
   ],
   "source": [
    "df.info()"
   ]
  },
  {
   "cell_type": "markdown",
   "metadata": {},
   "source": [
    "#testing block only\n",
    "csvModList = dataPreparation.collectFiles(parentDir,tempDir)\n",
    "print(len(csvModList))\n",
    "#dataPreparation.reMapPandasHeaders('../replacement_map.json',csvModList,tempDir,outDir)\n",
    "for file in csvModList[0:1]:\n",
    "        readDir = tempDir + '/' + file\n",
    "        df = pd.read_csv(readDir, index_col=0)\n",
    "        #originalHeader = list(df)\n",
    "        #newHeader = [replacement_map.get(originalName) or originalName for originalName in originalHeader]\n",
    "        #writeDir = tempDir + '/' + file\n",
    "        #df.to_csv(writeDir, header=newHeader)\n",
    "        #print(originalHeader, len(originalHeader))\n",
    "        new_df = df.loc[:, df.columns.isin(segKeepCols)]\n",
    "        print(new_df.columns)"
   ]
  },
  {
   "cell_type": "markdown",
   "metadata": {},
   "source": [
    "#Not needed in final code at this location. Added to global variables\n",
    "keepCols = ['word', 'translation', 'corrAnsEspV', 'fillerCarrier', 'block01', 'block02', 'block03', 'block04', 'block05', 'block06', 'block07', 'block08', 'block09', 'block10', 'block11', 'block12', 'block13', 'block14', 'block15', 'block16', 'block17', 'block18', 'block19', 'block20', 'block21', 'block22', 'block23', 'block24', 'block25', 'block26', 'block27', 'block28', 'block29', 'block30', 'block31', 'block32', 'block33', 'block34', 'block35', 'block36', 'block37', 'block38', 'block39', 'block40', 'block41', 'block42', 'block43', 'block44', 'block45', 'block46', 'block47', 'block48', 'syllabification', 'corrSyl', 'corrAns', 'leftKey', 'rightKey', 'condition', 'corrAnsEngV', 'questionNum', 'color', 'sectionEng', 'questionTextEng', 'languageEng', 'sectionEsp', 'questionTextEsp', 'languageEsp', 'lexRespEsp', 'lexRespEspCorr', 'lexRespEspRT', 'segResp', 'segRespRT', 'sylResp', 'sylRespCorr', 'sylRespRT', 'lexRespEng', 'lexRespEngCorr', 'lexRespEngRT', 'langHistResp1', 'langHistRT1', 'langHistResp2', 'langHistRT2', 'langHistResp3', 'langHistRT3', 'langUseResp', 'langUseRT', 'langProfResp', 'langProfRT', 'langAttResp', 'langAttRT', 'partNum', 'session', 'firstName', 'lastName', 'age', 'gender', 'birthCountry', 'placeResidence', 'education', 'preferLanguage', 'date', 'expName']\n",
    "#print(keepCols, len(keepCols))\n",
    "\n",
    "\n",
    "\n"
   ]
  },
  {
   "cell_type": "code",
   "execution_count": null,
   "metadata": {},
   "outputs": [],
   "source": []
  }
 ],
 "metadata": {
  "kernelspec": {
   "display_name": "Python 3",
   "language": "python",
   "name": "python3"
  },
  "language_info": {
   "codemirror_mode": {
    "name": "ipython",
    "version": 3
   },
   "file_extension": ".py",
   "mimetype": "text/x-python",
   "name": "python",
   "nbconvert_exporter": "python",
   "pygments_lexer": "ipython3",
   "version": "3.7.1"
  }
 },
 "nbformat": 4,
 "nbformat_minor": 2
}
