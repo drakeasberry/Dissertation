{
 "cells": [
  {
   "cell_type": "markdown",
   "metadata": {},
   "source": [
    "# This is the running tab on experimental design and processing files for my dissertation work.\n"
   ]
  },
  {
   "cell_type": "markdown",
   "metadata": {},
   "source": [
    "This block of text goes to Segmentation_Experimental_Item_Setup.xlsx, where all experimental items were selected, stored and checked for balancing."
   ]
  },
  {
   "cell_type": "code",
   "execution_count": 1,
   "metadata": {},
   "outputs": [],
   "source": [
    "#Convert xlsx sheet to csv file\n",
    "import xlrd\n",
    "import csv\n",
    "\n",
    "def csv_from_excel(workbookPath, sheetName, outputPath):\n",
    "    wb = xlrd.open_workbook(workbookPath)\n",
    "    sh = wb.sheet_by_name(sheetName)\n",
    "    your_csv_file = open(outputPath, 'w')\n",
    "    wr = csv.writer(your_csv_file, quoting=csv.QUOTE_ALL)\n",
    "\n",
    "    for rownum in range(sh.nrows):\n",
    "        wr.writerow(sh.row_values(rownum))\n",
    "\n",
    "    your_csv_file.close()\n",
    "\n",
    "# runs the csv_from_excel function:\n",
    "# creates csv for segmentation experiment lists\n",
    "csv_from_excel('Segmentation_Experimental_Item_Setup.xlsx','All_Experiment_Lists','./data/original_data/exp_files/expLists_all.csv')\n",
    "\n",
    "# creates csv for segmentation practice lists\n",
    "csv_from_excel('Segmentation_Experimental_Item_Setup.xlsx','All_Practice_Lists','./data/original_data/exp_files/pracLists_all.csv')\n",
    "\n",
    "# creates csv for syllabification experiment lists\n",
    "csv_from_excel('Segmentation_Experimental_Item_Setup.xlsx','Syllabification_Lists','./data/original_data/exp_files/sylexpLists_all.csv')\n",
    "\n",
    "# creates csv for syllabification practice lists\n",
    "csv_from_excel('Segmentation_Experimental_Item_Setup.xlsx','Syllabification_Practice','./data/original_data/exp_files/sylpracLists_all.csv')\n",
    "\n"
   ]
  },
  {
   "cell_type": "code",
   "execution_count": 2,
   "metadata": {},
   "outputs": [],
   "source": [
    "import pandas as pd\n",
    "\n",
    "# creates list for two trial types\n",
    "trialType = ['exp','prac','sylexp','sylprac']\n",
    "\n",
    "# runs through each condition for practice and experimental list conditions\n",
    "for trial in trialType:\n",
    "    # Reads in the newly created csv files\n",
    "    df = pd.read_csv('./data/original_data/exp_files/' + trial + 'Lists_all.csv')\n",
    "\n",
    "    if trial == 'sylprac':\n",
    "        df.to_csv('./data/temp_data/'+trial+'Lists_all.csv')\n",
    "    elif trial == 'sylexp':\n",
    "        # Creates four different csv files (4 Syllable experiment & pracitce condition)\n",
    "        listA = df.loc[0:23,:] # selects all rows for list A\n",
    "        listA.to_csv('./data/temp_data/'+trial+'CondA.csv') # saves temp file for further work\n",
    "\n",
    "        listB = df.loc[24:47,:] # selects all rows for list B\n",
    "        listB.to_csv('./data/temp_data/'+trial+'CondB.csv') # saves temp file for further work\n",
    "\n",
    "        listC = df.loc[48:71,:] # selects all rows for list C\n",
    "        listC.to_csv('./data/temp_data/'+trial+'CondC.csv') # saves temp file for further work\n",
    "\n",
    "        listD = df.loc[72:96,:] # selects all rows for list D\n",
    "        listD.to_csv('./data/temp_data/'+trial+'CondD.csv') # saves temp file for further work  \n",
    "    else:\n",
    "        # Creates four different csv files (4 Segmentation experiment & pracitce condition)\n",
    "        listA = df.loc[0:12,:] # selects all rows for list A\n",
    "        listA.to_csv('./data/temp_data/'+trial+'CondA.csv') # saves temp file for further work\n",
    "\n",
    "        listB = df.loc[15:27,:] # selects all rows for list B\n",
    "        listB.to_csv('./data/temp_data/'+trial+'CondB.csv') # saves temp file for further work\n",
    "\n",
    "        listC = df.loc[30:42,:] # selects all rows for list C\n",
    "        listC.to_csv('./data/temp_data/'+trial+'CondC.csv') # saves temp file for further work\n",
    "\n",
    "        listD = df.loc[45:57,:] # selects all rows for list D\n",
    "        listD.to_csv('./data/temp_data/'+trial+'CondD.csv') # saves temp file for further work\n",
    "        "
   ]
  },
  {
   "cell_type": "code",
   "execution_count": 20,
   "metadata": {},
   "outputs": [],
   "source": [
    "# Reads in new csv files from temp folder\n",
    "\n",
    "# sets list letters for the four condition file names (used in practice and experiments)\n",
    "condName = ['A', 'B', 'C', 'D']\n",
    "trialType = ['exp','prac','sylexp','sylprac']\n",
    "\n",
    "# runs through each condition file and makes final changes for PyschoPy\n",
    "for trial in trialType:\n",
    "    if trial == 'sylprac':\n",
    "        df_cond = pd.read_csv('./data/temp_data/'+trial+'Lists_all.csv')\n",
    "        # deletes the unnamed column populated from Excel Row ranges\n",
    "        df_cond.drop('Unnamed: 0', axis = 1, inplace = True)\n",
    "        df_cond.to_csv('./data/processed_data/exp_files/'+trial+'.csv')\n",
    "    else:\n",
    "        for cond in condName:\n",
    "            if trial == 'sylexp':\n",
    "                # without indexes\n",
    "                df_cond = pd.read_csv('./data/temp_data/'+trial+'Cond'+cond+'.csv')\n",
    "                # deletes the unnamed column populated from Excel Row ranges\n",
    "                df_cond.drop('Unnamed: 0', axis = 1, inplace = True)\n",
    "                df_cond.to_csv('./data/processed_data/exp_files/'+trial+'.csv')\n",
    "            else:\n",
    "                # indexs the labels column as row names\n",
    "                df_cond = pd.read_csv('./data/temp_data/'+trial+'Cond'+cond+'.csv', index_col='labels')\n",
    "                # sorts the columns in dataframe alphabetically\n",
    "                df_cond = df_cond.reindex(sorted(df_cond.columns), axis=1)\n",
    "                # deletes the unnamed column populated from Excel Row ranges\n",
    "                df_cond.drop('Unnamed: 0', axis = 1, inplace = True)\n",
    "            \n",
    "            # determines different column selections based on trialType\n",
    "            if trial == 'sylexp':\n",
    "                df_cond.to_csv('./data/processed_data/exp_files/'+trial+'Cond'+cond+'.csv')\n",
    "            elif trial == 'exp':\n",
    "                # deletes all the unnecessary checks and balances columns\n",
    "                clist_cond = df_cond.loc[:,'block01':'block48']\n",
    "                # writes out the new csv which is ready for PyschoPy\n",
    "                clist_cond.to_csv('./data/processed_data/exp_files/'+trial+'Cond'+cond+'.csv')\n",
    "            else:\n",
    "                # deletes all the unnecessary checks and balances columns\n",
    "                clist_cond = df_cond.loc[:,'block01':'block08']\n",
    "                # writes out the new csv which is ready for PyschoPy\n",
    "                clist_cond.to_csv('./data/processed_data/exp_files/'+trial+'Cond'+cond+'.csv')\n"
   ]
  },
  {
   "cell_type": "code",
   "execution_count": null,
   "metadata": {},
   "outputs": [],
   "source": []
  },
  {
   "cell_type": "code",
   "execution_count": null,
   "metadata": {},
   "outputs": [],
   "source": []
  }
 ],
 "metadata": {
  "kernelspec": {
   "display_name": "Python 3",
   "language": "python",
   "name": "python3"
  },
  "language_info": {
   "codemirror_mode": {
    "name": "ipython",
    "version": 3
   },
   "file_extension": ".py",
   "mimetype": "text/x-python",
   "name": "python",
   "nbconvert_exporter": "python",
   "pygments_lexer": "ipython3",
   "version": "3.7.1"
  }
 },
 "nbformat": 4,
 "nbformat_minor": 2
}
